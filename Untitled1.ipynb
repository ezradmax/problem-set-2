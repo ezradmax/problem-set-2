{
 "cells": [
  {
   "cell_type": "code",
   "execution_count": 28,
   "metadata": {},
   "outputs": [],
   "source": [
    "#Import packages\n",
    "import pandas as pd\n",
    "import numpy as np\n",
    "from sklearn import linear_model\n",
    "import matplotlib.pyplot as plt\n",
    "from matplotlib.lines import Line2D\n",
    "\n",
    "#Set seed\n",
    "np.random.seed(33002)"
   ]
  },
  {
   "cell_type": "code",
   "execution_count": 29,
   "metadata": {},
   "outputs": [],
   "source": [
    "#Import linear regression model and NES data\n",
    "reg=linear_model.LinearRegression(fit_intercept=True)\n",
    "df=pd.read_csv(\"/Users/emax/Downloads/problem-set-2-master/nes2008.csv\")"
   ]
  },
  {
   "cell_type": "code",
   "execution_count": 30,
   "metadata": {},
   "outputs": [],
   "source": [
    "#Split data into features and dependent variable\n",
    "x_train=df[['female','age','educ','dem','rep']]\n",
    "y_train=df[['biden']]\n",
    "\n",
    "#Train linear model\n",
    "mod=reg.fit(x_train,y_train)\n",
    "\n",
    "#Save and print beta coefficient, store model in Python function\n",
    "b0=mod.intercept_[0]\n",
    "b1,b2,b3,b4,b5=mod.coef_[0]\n",
    "mod_form=(\"Y(x)=%s+%s*x1+%s*x2+%s*x3+%s*x4+%s*x5\"%(\n",
    "    round(b0,2),round(b1,2),round(b2,2),round(b3,2),round(b4,2),round(b5,2)))\n",
    "\n",
    "def f(x):\n",
    "    return(b0+b1*x[0]+b2*x[1]+b3*x[2]+b4*x[3]+b5*x[4])"
   ]
  },
  {
   "cell_type": "code",
   "execution_count": 31,
   "metadata": {},
   "outputs": [
    {
     "data": {
      "text/plain": [
       "(395.2701692786489, 'Y(x)=58.81+4.1*x1+0.05*x2+-0.35*x3+15.42*x4+-15.85*x5')"
      ]
     },
     "execution_count": 31,
     "metadata": {},
     "output_type": "execute_result"
    }
   ],
   "source": [
    "#Predict dependent variable using model and return MSE\n",
    "y_pred=[f(x) for x in x_train.values]\n",
    "y_train=[val[0] for val in y_train.values]\n",
    "n=len(y_pred)\n",
    "\n",
    "mse_df=pd.DataFrame({'pred':y_pred,'actual':y_train})\n",
    "mse_df['square_err']=mse_df.apply(lambda row: (row['pred']-row['actual'])**2, axis=1)\n",
    "\n",
    "mse_full_set=sum(mse_df['square_err'])/n\n",
    "mse_full_set, mod_form"
   ]
  },
  {
   "cell_type": "markdown",
   "metadata": {},
   "source": [
    "Question 1.\n",
    "\n",
    "Our model trained on the full set is of the form\n",
    "\n",
    "\\begin{equation}\n",
    "\\hat{Y}(x)=58.81+4.10x_1+.05x_2-.35x_3+15.42x_4-15.85x_5=(58.81,4.10.05,.35,15.42,-15.85)\\cdot \\overline{x}\n",
    "\\end{equation}\n",
    "$\\text{where } \\overline{x}=(1,x_1,\\dotsc,x_5)$\n",
    "\n",
    "For the model trained on the full dataset, we find that our full-set MSE is 395.27. This MSE is quite high, and as we will explain below this is because of irreducible error in the data/our model."
   ]
  },
  {
   "cell_type": "code",
   "execution_count": 32,
   "metadata": {},
   "outputs": [
    {
     "data": {
      "text/plain": [
       "([59.42798444605631,\n",
       "  4.479168480438875,\n",
       "  0.054075952307698974,\n",
       "  -0.3363807360764138,\n",
       "  14.963578832999122,\n",
       "  -17.734748782615192],\n",
       " 438.9405770803064,\n",
       " 353.181390126255,\n",
       " 396.17963217405276)"
      ]
     },
     "execution_count": 32,
     "metadata": {},
     "output_type": "execute_result"
    }
   ],
   "source": [
    "def run_one_validation():\n",
    "    '''\n",
    "    A function to perform one holdout validation.\n",
    "    \n",
    "    Outputs: (MSE value from model applied to testing set, MSE value from model applied to training set)\n",
    "    '''\n",
    "    #Randomly split dataframe into testing set (~50% of data) and training set (~50% of data)\n",
    "    msk = np.random.rand(len(df)) < 0.5\n",
    "\n",
    "    train_data=df[msk]\n",
    "    test_data=df[~msk]\n",
    "    \n",
    "    #Split testing, training data into features and dependent variable\n",
    "    x_train=train_data[['female','age','educ','dem','rep']]\n",
    "    y_train=train_data[['biden']]\n",
    "    x_test=test_data[['female','age','educ','dem','rep']]\n",
    "    y_test=test_data[['biden']]\n",
    "    \n",
    "    #Train linear model using training data\n",
    "    mod=reg.fit(x_train,y_train)\n",
    "    \n",
    "    #Save beta coefficient, store model in Python function \n",
    "    b0=mod.intercept_[0]\n",
    "    b1,b2,b3,b4,b5=mod.coef_[0]\n",
    "\n",
    "    def g(x):\n",
    "        return(b0+b1*x[0]+b2*x[1]+b3*x[2]+b4*x[3]+b5*x[4])\n",
    "    \n",
    "    #Use model to predict on testing data\n",
    "    y_pred_test=[g(x) for x in x_test.values]\n",
    "    y_actual_test=[val[0] for val in y_test.values]\n",
    "    \n",
    "    #Compute MSE from training and testing data\n",
    "    n=len(test_data)\n",
    "\n",
    "    test_mse_df=pd.DataFrame({'pred':y_pred_test,'actual':y_actual_test})\n",
    "    test_mse_df['square_err']=test_mse_df.apply(lambda row: (row['pred']-row['actual'])**2, axis=1)\n",
    "\n",
    "    testing_mse=sum(test_mse_df['square_err'])/n\n",
    "    \n",
    "    #Use model to predict on training data\n",
    "    y_pred_train=[g(x) for x in x_train.values]\n",
    "    y_actual_train=[val[0] for val in y_train.values]\n",
    "    \n",
    "    #Compute MSE from training data\n",
    "    k=len(train_data)\n",
    "\n",
    "    train_mse_df=pd.DataFrame({'pred':y_pred_train,'actual':y_actual_train})\n",
    "    train_mse_df['square_err']=train_mse_df.apply(lambda row: \n",
    "                                                  (row['pred']-row['actual'])**2, axis=1)\n",
    "\n",
    "    training_mse=sum(train_mse_df['square_err'])/k\n",
    "    \n",
    "    total_mse=(n*testing_mse+k*training_mse)/(n+k)\n",
    "    return([b0,b1,b2,b3,b4,b5],testing_mse,training_mse,total_mse)\n",
    "\n",
    "#Run one holdout validation and record MSE\n",
    "mse = run_one_validation()\n",
    "mse"
   ]
  },
  {
   "cell_type": "markdown",
   "metadata": {},
   "source": [
    "Question 2. \n",
    "\n",
    "We have created a model by fitting a regression on the training data, and then applied this model separately to the testing data and the training data. This has let us compute three different MSE values: the MSE when applying our model to the testing data (VMSE), the MSE when applying our model to the training data (TMSE), and the MSE from applying our model to both the training and testing sets.\n",
    "\n",
    "Our values for VMSE, TMSE, and MSE respectively are 438.94, 353.18, 396.18.\n",
    "\n",
    "When we trained our model on the whole data set above, our MSE was 395.27. Comparing this to our lower TMSE from the holdout model, the obvious explanation is that our TMSE here is the result of training our model on a smaller set: our regression in the non-holdout case minimized MSE over a bigger set, our regression in the holdout case minimized MSE precsiely on the training set (this is our TMSE), and since it is easier to fit a line on less data, our TMSE is lower. \n",
    "\n",
    "This analysis is largely true. But I think it only gives part of the picture. For one thing, our model trained on the training set did not look so different from our model trained on the full set. Numerically, we can compare our models $\\hat{Y}_1$ and $\\hat{Y}_2$ from the non-holdout and holdout approach, respectively, below:\n",
    "\n",
    "$$\n",
    "\\begin{array}{c}\n",
    "\\hat{Y}_1(x)=58.81+4.10x_1+.05x_2-.35x_3+15.42x_4-15.85x_5\\\\\n",
    "\\hat{Y}_2(x)=59.53+4.48x_1+.05x_2-.34x_3+14.96x_4-17.73x_5\n",
    "\\end{array}\n",
    "$$\n",
    "\n",
    "The similarity of the two models suggests that our much lower TMSE (compared to our MSE from the non-holdout approach above) is not just the result of simple overfitting. In fact, it seems that the line of best for our training data in this example is not so far off from the line of best fit for our set overall--mathematically, that is what we when we compare our overall MSE from the holdout model (396.17) with our MSE from the non-holdout model (395.27).\n",
    "\n",
    "If it's not overfitting, then why would we see such a disparity in our holdout TMSE and our non-holdout MSE? The other natural explanation is the irreducible error in our data: it's possible that the data in our testing set here was much noisier than the data in our training set. Messiness in the data captured in the full set and the testing set, but not in the training set, would go far in explaining the high MSE in our non-holdout model above and the high overall MSE for our holdout model. It's not that we can simply fit a better line on the training data; it's that this particular random selection of training data is more tightly clustered than the rest of the dataset, and that while the lines we would have fit on the training, testing, or full data sets would all be similar, this choice of training set is simply easier to fit a linear model on than the testing or full data sets.\n",
    "\n",
    "If this is the case, then we would expect to see a wide distribution of VMSE scores that's roughly symmetric around its mean--i.e., randomly drawing new training and testing data and training a model on the training data, we would expect to have similar coefficients but a high variance in VMSE (and in turn a high variance in RMSE, since roughly VMSE~2(MSE-TMSE/2)~2(395.27-TMSE/2)). Keeping in mind as well our point above about overfitting, and assuming our sample is representative, we would also expect our mean VMSE and TMSE scores to be a bit higher than our baseline MSE from the non-holdout model (though again, this should not have too big an effect seeing as our coefficients in the sample above were quite similar to our original coefficients from the non-holdout case). \n",
    "\n",
    "In fact, we will discover just below that this is exactly the distribution of VMSE/TMSE scores we see."
   ]
  },
  {
   "cell_type": "code",
   "execution_count": 33,
   "metadata": {},
   "outputs": [],
   "source": [
    "#Run 1000 validations\n",
    "mses=[run_one_validation() for i in range(1000)]\n",
    "mses_test=[val[1] for val in mses]\n",
    "mses_diff=[val[1]-val[2] for val in mses]\n",
    "mses_total=[val[3] for val in mses]\n",
    "avg_mse_holdout=sum(mses_test)/1000\n",
    "avg_mse_diff=sum(mses_diff)/1000\n",
    "\n",
    "coeff_list=[val[0] for val in mses]"
   ]
  },
  {
   "cell_type": "code",
   "execution_count": 37,
   "metadata": {},
   "outputs": [
    {
     "data": {
      "text/plain": [
       "Text(0.5, 1.0, 'VMSE for 1000 Trials')"
      ]
     },
     "execution_count": 37,
     "metadata": {},
     "output_type": "execute_result"
    },
    {
     "data": {
      "image/png": "[encoded data removed]",
      "text/plain": [
       "<Figure size 432x288 with 1 Axes>"
      ]
     },
     "metadata": {
      "needs_background": "light"
     },
     "output_type": "display_data"
    }
   ],
   "source": [
    "#Plot validations in histogram against baseline MSE (from full set)\n",
    "plt.axvline(mse_full_set, color='red', linewidth=1)\n",
    "plt.axvline(avg_mse_holdout, color='orange', linewidth=1)\n",
    "plt.hist(mses_test, color='c', bins=30)\n",
    "\n",
    "custom_lines = [Line2D([0],[0], color='c',lw=2),\n",
    "                Line2D([0],[0], color='orange',lw=2),Line2D([0],[0], color='red',lw=2)]\n",
    "plt.legend(custom_lines, ['Testing MSE', 'Mean', 'Baseline MSE (no holdout)'])\n",
    "plt.title('VMSE for 1000 Trials')"
   ]
  },
  {
   "cell_type": "code",
   "execution_count": 38,
   "metadata": {},
   "outputs": [
    {
     "data": {
      "text/plain": [
       "Text(0.5, 1.0, 'Difference in VMSE and TMSE for 1000 Trials')"
      ]
     },
     "execution_count": 38,
     "metadata": {},
     "output_type": "execute_result"
    },
    {
     "data": {
      "image/png": "[encoded data removed]",
      "text/plain": [
       "<Figure size 432x288 with 1 Axes>"
      ]
     },
     "metadata": {
      "needs_background": "light"
     },
     "output_type": "display_data"
    }
   ],
   "source": [
    "#Plot validations in histogram against baseline MSE (from full set)\n",
    "plt.axvline(avg_mse_diff, color='orange', linewidth=1)\n",
    "plt.hist(mses_diff, color='c', bins=30)\n",
    "\n",
    "custom_lines = [Line2D([0],[0], color='c',lw=2),\n",
    "                Line2D([0],[0], color='orange',lw=2)]\n",
    "plt.legend(custom_lines, ['VMSE-TMSE', 'Mean'])\n",
    "plt.title('Difference in VMSE and TMSE for 1000 Trials')"
   ]
  },
  {
   "cell_type": "code",
   "execution_count": 39,
   "metadata": {},
   "outputs": [
    {
     "data": {
      "text/plain": [
       "Text(0.5, 1.0, 'Total MSE for 1000 Trials')"
      ]
     },
     "execution_count": 39,
     "metadata": {},
     "output_type": "execute_result"
    },
    {
     "data": {
      "image/png": "[encoded data removed]",
      "text/plain": [
       "<Figure size 432x288 with 1 Axes>"
      ]
     },
     "metadata": {
      "needs_background": "light"
     },
     "output_type": "display_data"
    }
   ],
   "source": [
    "#Plot validations in histogram against baseline MSE (from full set)\n",
    "plt.axvline(mse_full_set, color='orange', linewidth=1)\n",
    "plt.hist(mses_total, color='c', bins=30)\n",
    "\n",
    "custom_lines = [Line2D([0],[0], color='c',lw=2),\n",
    "                Line2D([0],[0], color='orange',lw=2)]\n",
    "plt.legend(custom_lines, ['Full-Set MSE', 'Baseline MSE (no holdout)'])\n",
    "plt.title('Total MSE for 1000 Trials')"
   ]
  },
  {
   "cell_type": "code",
   "execution_count": 40,
   "metadata": {},
   "outputs": [
    {
     "data": {
      "text/plain": [
       "Text(0.5, 1.0, 'Coefficients for b0, b1, b4, b5 from 1000 trials (non-holdout baseline in white)')"
      ]
     },
     "execution_count": 40,
     "metadata": {},
     "output_type": "execute_result"
    },
    {
     "data": {
      "image/png": "[encoded data removed]",
      "text/plain": [
       "<Figure size 432x288 with 1 Axes>"
      ]
     },
     "metadata": {
      "needs_background": "light"
     },
     "output_type": "display_data"
    }
   ],
   "source": [
    "plt.axvline(b0, color='white', linewidth=1)\n",
    "plt.axvline(b1, color='white', linewidth=1)\n",
    "plt.axvline(b4, color='white', linewidth=1)\n",
    "plt.axvline(b5, color='white', linewidth=1)\n",
    "plt.hist([val[0] for val in coeff_list], color='c', bins=30)\n",
    "plt.hist([val[1] for val in coeff_list], color='blue', bins=30)\n",
    "plt.hist([val[4] for val in coeff_list], color='purple', bins=30)\n",
    "plt.hist([val[5] for val in coeff_list], color='orange', bins=30)\n",
    "\n",
    "custom_lines = [Line2D([0],[0], color='c',lw=2),\n",
    "                Line2D([0],[0], color='blue',lw=2),Line2D([0],[0], color='purple',lw=2)\n",
    "                ,Line2D([0],[0], color='orange',lw=2)]\n",
    "plt.legend(custom_lines, ['b0','b1','b4','b5'])\n",
    "plt.title('Coefficients for b0, b1, b4, b5 from 1000 trials (non-holdout baseline in white)')"
   ]
  },
  {
   "cell_type": "code",
   "execution_count": 41,
   "metadata": {},
   "outputs": [
    {
     "data": {
      "text/plain": [
       "Text(0.5, 1.0, 'coefficients for b2,b3 from 100 trials (non-holdout baseline in white')"
      ]
     },
     "execution_count": 41,
     "metadata": {},
     "output_type": "execute_result"
    },
    {
     "data": {
      "image/png": "[encoded data removed]",
      "text/plain": [
       "<Figure size 432x288 with 1 Axes>"
      ]
     },
     "metadata": {
      "needs_background": "light"
     },
     "output_type": "display_data"
    }
   ],
   "source": [
    "plt.axvline(b2, color='white', linewidth=1)\n",
    "plt.axvline(b3, color='white', linewidth=1)\n",
    "\n",
    "plt.hist([val[2] for val in coeff_list], color='blue', bins=30)\n",
    "plt.hist([val[3] for val in coeff_list], color='green', bins=30)\n",
    "\n",
    "custom_lines = [Line2D([0],[0], color='blue',lw=2),\n",
    "                Line2D([0],[0], color='green',lw=2)]\n",
    "plt.legend(custom_lines, ['b2', 'b3'])\n",
    "plt.title('coefficients for b2,b3 from 100 trials (non-holdout baseline in white')"
   ]
  },
  {
   "cell_type": "markdown",
   "metadata": {},
   "source": [
    "Questions 3/4. \n",
    "\n",
    "We have five histograms above. The first shows the distribution of testing MSEs (VMSEs) from 1000 trials with the holdout approach; the second, the difference $\\text{VMSE}-\\text{TMSE}$ between testing and validation MSEs from 1000 trials with the holdout approach; the third, the overall MSE from 1000 trials with the holdout approach. The final two show the distributions of different coefficients across the holdout trials, and compare these with the baseline from our original, full-set model.\n",
    "\n",
    "The first histogram tells us what we predicted above: due to inherent noisiness in the data, there is a wide variation in VMSE from the holdout approach depending on whether the messy observations are sorted into the validation or training sets. The mean of this variation is slight above the MSE we computed with the non-holdout approach, which makes sense because--all noisiness being equal across 1000 trials--we will come outbehind when trying to minimize MSE over one set and then compute it for another, as opposed to minimizing it over the entire set. (We made that prediction for TMSE, but of course roughly TMSE+VMSE~MSE~395.27, so they shuold be similarly distributed.)\n",
    "\n",
    "The second histogram gives us a bit more color: in very loose terms, because one of the validation and training sets contains more of the \"noise\" that drives our high MSE numbers, VMSE-TMSE should have a roughly symmetric distribution around 0; the distribution's mean will actually be a bit above 0, because of course higher/lower MSEs are not only driven by noisiness, but also by goodness-of-fit, and so again in aggregate VMSE should be a bit higher than TMSE since we are properly only ever minimizing TMSE.\n",
    "\n",
    "The third histogram is a good sanity check: the distribution of full-set MSEs from the holdout approach are not so much worse than our baseline MSE from the non-holdout approach. Again, this lends weight to our guess that there are enough clean observations to make the best line of fit similar between trials, but enough noisy observations to affect MSE numbers. More importantly, it is never the case that the holdout MSE for the full set is better than the baseline MSE from the non-holdout model, which is of course what we would want to see (if one of the holdout MSEs were lower than the baseline, this would mean that the model on the whole set was not actually the model that minimized MSE, which would make no sense since by definition the model trained on the whole set is precisely the model which gives the best overall MSE.)\n",
    "\n",
    "The final two histograms tell us what we had surmised thus far: the lines of best fit/models do not change very much depending on our choice of training/testing data; how well they fit does, due largely to irreducible error rather than to the model being inappropriate for our problem.\n",
    "\n",
    "So we have a sense for what the data look like now: as the variation in TMSE and VMSE in our holdouts and the lack of variation in our coefficients/VMSE-TMSE/overall MSEs from holdouts tell us, a lot of the \"badness\" in MSE is being driven by data which cannot easily be fit with any line, and while the general shape of our model is consistent across holdout trials even when we look at only some of the data, there is a huge amount of random variation in our observations which make our model error-prone and drive up our overall MSEs.\n",
    "\n",
    "Finally, as a result, we do see that there will be a large error standard error depending on our distribution. Because the MSEs are so high overall, we do not have a great fit. But at least we can say that the fit is because of the variance side of things, rather than because of bias. This is a benefit of bootstrapping."
   ]
  }
 ],
 "metadata": {
  "kernelspec": {
   "display_name": "Python 3",
   "language": "python",
   "name": "python3"
  },
  "language_info": {
   "codemirror_mode": {
    "name": "ipython",
    "version": 3
   },
   "file_extension": ".py",
   "mimetype": "text/x-python",
   "name": "python",
   "nbconvert_exporter": "python",
   "pygments_lexer": "ipython3",
   "version": "3.7.3"
  }
 },
 "nbformat": 4,
 "nbformat_minor": 2
}
